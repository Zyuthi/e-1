{
 "cells": [
  {
   "cell_type": "code",
   "execution_count": 1,
   "id": "14ac34a1-1e00-4317-a265-b15b3f50fc4d",
   "metadata": {},
   "outputs": [
    {
     "name": "stdout",
     "output_type": "stream",
     "text": [
      "['False', 'None', 'True', 'and', 'as', 'assert', 'async', 'await', 'break', 'class', 'continue', 'def', 'del', 'elif', 'else', 'except', 'finally', 'for', 'from', 'global', 'if', 'import', 'in', 'is', 'lambda', 'nonlocal', 'not', 'or', 'pass', 'raise', 'return', 'try', 'while', 'with', 'yield']\n"
     ]
    }
   ],
   "source": [
    "import keyword\n",
    "print(keyword.kwlist)"
   ]
  },
  {
   "cell_type": "code",
   "execution_count": 3,
   "id": "583c9138-7a8d-41b3-b12e-e151217d10b1",
   "metadata": {},
   "outputs": [
    {
     "name": "stdout",
     "output_type": "stream",
     "text": [
      "5.0\n"
     ]
    }
   ],
   "source": [
    "import math\n",
    "result = math.sqrt(25)\n",
    "print(result)"
   ]
  },
  {
   "cell_type": "code",
   "execution_count": 4,
   "id": "2fbfb49e-1a79-42e3-8537-c5999ba8f7d5",
   "metadata": {},
   "outputs": [
    {
     "name": "stdout",
     "output_type": "stream",
     "text": [
      "9.0\n"
     ]
    }
   ],
   "source": [
    "from math import sqrt\n",
    "result = sqrt(81)\n",
    "print(result)"
   ]
  },
  {
   "cell_type": "code",
   "execution_count": 5,
   "id": "71a4f73e-f37b-4a39-afb5-87cc0371280a",
   "metadata": {},
   "outputs": [
    {
     "ename": "SyntaxError",
     "evalue": "cannot assign to None (3366989415.py, line 1)",
     "output_type": "error",
     "traceback": [
      "\u001b[0;36m  Cell \u001b[0;32mIn [5], line 1\u001b[0;36m\u001b[0m\n\u001b[0;31m    None = 10\u001b[0m\n\u001b[0m    ^\u001b[0m\n\u001b[0;31mSyntaxError\u001b[0m\u001b[0;31m:\u001b[0m cannot assign to None\n"
     ]
    }
   ],
   "source": [
    "None = 10"
   ]
  },
  {
   "cell_type": "code",
   "execution_count": 6,
   "id": "0ce6f7bc-fff1-4409-a46f-afe27790cbb9",
   "metadata": {},
   "outputs": [],
   "source": [
    "# None = 10\n",
    "none = 10"
   ]
  },
  {
   "cell_type": "code",
   "execution_count": 10,
   "id": "34490972-9846-4fe1-b245-69d361e864c0",
   "metadata": {},
   "outputs": [
    {
     "name": "stdout",
     "output_type": "stream",
     "text": [
      "10\n",
      "TOM\n"
     ]
    }
   ],
   "source": [
    "a = 10\n",
    "print(a)\n",
    "\n",
    "A = \"TOM\"\n",
    "print(A)"
   ]
  },
  {
   "cell_type": "code",
   "execution_count": 11,
   "id": "26f8fb6d-fb37-4d44-8974-b0aeb71ca6b8",
   "metadata": {},
   "outputs": [
    {
     "name": "stdout",
     "output_type": "stream",
     "text": [
      "170\n"
     ]
    }
   ],
   "source": [
    "marks1 = 80\n",
    "Marks1 = 90\n",
    "\n",
    "Total = marks1 + Marks1\n",
    "\n",
    "#printing the results\n",
    "print(Total)"
   ]
  },
  {
   "cell_type": "code",
   "execution_count": null,
   "id": "4a938c55-8db2-4c7d-a208-3d05bee6cb34",
   "metadata": {},
   "outputs": [],
   "source": [
    "case sensitive : mean capital and small letters are treated seperated"
   ]
  },
  {
   "cell_type": "code",
   "execution_count": 12,
   "id": "f9d8bef3-ed0a-4120-a82b-872d6b9c1a2e",
   "metadata": {},
   "outputs": [
    {
     "name": "stdout",
     "output_type": "stream",
     "text": [
      "160\n"
     ]
    }
   ],
   "source": [
    "marks1 = 80\n",
    "Marks1 = 90\n",
    "\n",
    "Total = marks1 + marks1\n",
    "\n",
    "#printing the results\n",
    "print(Total)"
   ]
  },
  {
   "cell_type": "code",
   "execution_count": 13,
   "id": "c9fcb873-606f-4611-bc71-c95b4186912c",
   "metadata": {},
   "outputs": [
    {
     "name": "stdout",
     "output_type": "stream",
     "text": [
      "21\n",
      "21\n",
      "21\n",
      "21\n",
      "21\n"
     ]
    }
   ],
   "source": [
    "# we can start variable name using\"_\"(comment lines in single line starts using '#')\n",
    "_age = 21\n",
    "print(_age)\n",
    "\n",
    "age = 21\n",
    "print(age)\n",
    "\n",
    "# we can start a variable name using capital letter\n",
    "Age = 21\n",
    "print(Age)\n",
    "\n",
    "AGE = 21\n",
    "print(AGE)\n",
    "\n",
    "# we can start a variable using 0-9 ,but we can use digits in-between\n",
    "_age123 = 21\n",
    "print(_age123)"
   ]
  },
  {
   "cell_type": "code",
   "execution_count": 14,
   "id": "f3e99fe4-ad1f-49a3-976a-48a05869315d",
   "metadata": {},
   "outputs": [
    {
     "ename": "SyntaxError",
     "evalue": "invalid decimal literal (4279288449.py, line 1)",
     "output_type": "error",
     "traceback": [
      "\u001b[0;36m  Cell \u001b[0;32mIn [14], line 1\u001b[0;36m\u001b[0m\n\u001b[0;31m    123_age = 21\u001b[0m\n\u001b[0m       ^\u001b[0m\n\u001b[0;31mSyntaxError\u001b[0m\u001b[0;31m:\u001b[0m invalid decimal literal\n"
     ]
    }
   ],
   "source": [
    "123_age = 21\n",
    "print(123_age)"
   ]
  },
  {
   "cell_type": "code",
   "execution_count": 19,
   "id": "0d9f7faa-c110-49e5-8fc8-65f4989e99db",
   "metadata": {},
   "outputs": [
    {
     "name": "stdout",
     "output_type": "stream",
     "text": [
      "21\n"
     ]
    }
   ],
   "source": [
    "\"\"\"\n",
    "we can start a variable using 0-9\n",
    "we can use digits anywhere,avoiding at the start\n",
    "\"\"\"\n",
    "_age123 = 21\n",
    "print(_age123)"
   ]
  },
  {
   "cell_type": "code",
   "execution_count": null,
   "id": "cb088c46-af77-4734-a57b-33ea8f4f3611",
   "metadata": {},
   "outputs": [],
   "source": [
    "it is the multiine comment"
   ]
  },
  {
   "cell_type": "code",
   "execution_count": 20,
   "id": "baefb83a-2cb4-423b-b378-83c2714b8e7d",
   "metadata": {},
   "outputs": [
    {
     "name": "stdout",
     "output_type": "stream",
     "text": [
      "positive number\n"
     ]
    }
   ],
   "source": [
    "x = 5\n",
    "# if x is greater than 2 then inthis case we have to print \"positive number\"\n",
    "if x > 2:\n",
    "    print(\"positive number\")"
   ]
  },
  {
   "cell_type": "code",
   "execution_count": null,
   "id": "6f6c08d6-5721-4d31-8d6c-b1b2f8c8af07",
   "metadata": {},
   "outputs": [],
   "source": [
    "indentation with error"
   ]
  },
  {
   "cell_type": "code",
   "execution_count": 22,
   "id": "63b5ef84-c7ca-49e7-ad2d-f737e2dea87c",
   "metadata": {},
   "outputs": [
    {
     "ename": "IndentationError",
     "evalue": "expected an indented block after 'if' statement on line 3 (3118673627.py, line 4)",
     "output_type": "error",
     "traceback": [
      "\u001b[0;36m  Cell \u001b[0;32mIn [22], line 4\u001b[0;36m\u001b[0m\n\u001b[0;31m    print(\"positivenumber\")\u001b[0m\n\u001b[0m    ^\u001b[0m\n\u001b[0;31mIndentationError\u001b[0m\u001b[0;31m:\u001b[0m expected an indented block after 'if' statement on line 3\n"
     ]
    }
   ],
   "source": [
    "x = 5 \n",
    "\n",
    "if x > 2:\n",
    "print(\"positivenumber\")\n",
    "if x > 4:\n",
    "print(\"positive number and it is more than 4\")"
   ]
  },
  {
   "cell_type": "code",
   "execution_count": null,
   "id": "4fda225c-2df6-40c7-94f3-035eea5255e9",
   "metadata": {},
   "outputs": [],
   "source": [
    "if we wanted to remove indentation , we need to give\" 4 spaces or one tab space\" as shown in below known as "
   ]
  },
  {
   "cell_type": "code",
   "execution_count": 23,
   "id": "161b194a-2a9c-4420-876c-7365262428e3",
   "metadata": {},
   "outputs": [
    {
     "name": "stdout",
     "output_type": "stream",
     "text": [
      "positivenumber\n",
      "positive number and it is more than 4\n"
     ]
    }
   ],
   "source": [
    "x = 5 \n",
    "\n",
    "if x > 2:\n",
    "    print(\"positivenumber\")\n",
    "if x > 4:\n",
    "    print(\"positive number and it is more than 4\")"
   ]
  },
  {
   "cell_type": "raw",
   "id": "d34f664b-1be3-4afa-bc6a-dce653398775",
   "metadata": {},
   "source": [
    "here we can also find the type of a variable"
   ]
  },
  {
   "cell_type": "code",
   "execution_count": 25,
   "id": "7ee0fa96-e2f2-452d-b4d3-1e6c6678a08f",
   "metadata": {},
   "outputs": [
    {
     "name": "stdout",
     "output_type": "stream",
     "text": [
      "10\n",
      "12.4\n",
      "Alice\n",
      "12\n",
      "<class 'int'>\n",
      "<class 'float'>\n",
      "<class 'str'>\n",
      "<class 'str'>\n"
     ]
    }
   ],
   "source": [
    "# integer,float,string,.......\n",
    "a = 10 # it is a integer\n",
    "print(a)\n",
    "b = 12.40 # it is a float\n",
    "print(b)\n",
    "nm = \"Alice\"\n",
    "print(nm)\n",
    "c = \"12\" # c is treated as a string(char)\n",
    "print(c)\n",
    "\n",
    "print(type(a))\n",
    "print(type(b))\n",
    "print(type(nm))\n",
    "print(type(c))"
   ]
  },
  {
   "cell_type": "code",
   "execution_count": null,
   "id": "00ee9810-c465-431e-9a76-038dff5ac941",
   "metadata": {},
   "outputs": [],
   "source": [
    "lists,tuples,dictionary"
   ]
  },
  {
   "cell_type": "code",
   "execution_count": null,
   "id": "78a16b6a-d82a-490d-96ec-6368dc665e83",
   "metadata": {},
   "outputs": [],
   "source": [
    "Lists:\n",
    "->it should be declared in between the square brackets'\n",
    "->lists are mutable.(can change/modify anything once declared)\n",
    "->it is also heterogeneous "
   ]
  },
  {
   "cell_type": "code",
   "execution_count": 27,
   "id": "5a46a702-5d0f-4142-9615-76a4c0015883",
   "metadata": {},
   "outputs": [
    {
     "name": "stdout",
     "output_type": "stream",
     "text": [
      "['banana', 'grapes', 'apples']\n",
      "[1, 2, 3, 'TOM']\n"
     ]
    }
   ],
   "source": [
    "#List\n",
    "fruits = [\"banana\",\"grapes\",\"apples\"]\n",
    "print(fruits)\n",
    "fruits = [\"banana\",\"apples\",\"cherries\"]\n",
    "\n",
    "a = [1,2,3,\"TOM\"]\n",
    "print(a)"
   ]
  },
  {
   "cell_type": "code",
   "execution_count": null,
   "id": "068d5616-b0e0-42ce-8cd1-03dbb257250c",
   "metadata": {},
   "outputs": [],
   "source": [
    "Tuple:\n",
    "-> similar to list\n",
    "-> these are immutable(cannot change/modify anything once declared)\n",
    "->it is a collection of items"
   ]
  },
  {
   "cell_type": "code",
   "execution_count": 28,
   "id": "4a84fee3-1acd-4505-8d39-5a258f261673",
   "metadata": {},
   "outputs": [
    {
     "name": "stdout",
     "output_type": "stream",
     "text": [
      "['banana', 'grapes', 'apples']\n",
      "(1, 2, 3, 'TOM')\n"
     ]
    }
   ],
   "source": [
    "fruits = [\"banana\",\"grapes\",\"apples\"]\n",
    "print(fruits)\n",
    "\n",
    "a = (1,2,3,\"TOM\")\n",
    "print(a)"
   ]
  },
  {
   "cell_type": "code",
   "execution_count": null,
   "id": "05f2c1bb-ff62-4a93-b56c-533dbaf81b84",
   "metadata": {},
   "outputs": [],
   "source": [
    "Dictionaries\n",
    "-> represented in the \"{,}\" (curly braces/flower brackets)\n",
    "-> can write using the word \"dict\"\n",
    "-> it is mutable\n",
    "-> has the keys-values\n",
    "-> un ordered group of data"
   ]
  },
  {
   "cell_type": "code",
   "execution_count": 29,
   "id": "143082e5-b4bc-4a8e-9816-b49007f968a3",
   "metadata": {},
   "outputs": [
    {
     "name": "stdout",
     "output_type": "stream",
     "text": [
      "{'name': 'Tom', 'subject': 'English', 'marks': 90}\n"
     ]
    }
   ],
   "source": [
    "# Dictionaries\n",
    "\n",
    "my_dict = {\"name\": \"Tom\",\"subject\": \"English\",\"marks\": 90}\n",
    "print(my_dict)"
   ]
  },
  {
   "cell_type": "code",
   "execution_count": null,
   "id": "635c8c26-b138-4135-96cc-d31b5d2ebbbd",
   "metadata": {},
   "outputs": [],
   "source": [
    "sets:\n",
    "-> similar to dictionaries but do not contain the keys"
   ]
  },
  {
   "cell_type": "code",
   "execution_count": 30,
   "id": "c6a331f8-84f6-436d-8943-ffa309bcdd2a",
   "metadata": {},
   "outputs": [
    {
     "name": "stdout",
     "output_type": "stream",
     "text": [
      "['banana', 'grapes', 'apples']\n"
     ]
    }
   ],
   "source": [
    "#sets\n",
    "fruis = {\"banana\",\"cherries\",\"applies\"}\n",
    "print(fruits)"
   ]
  },
  {
   "cell_type": "code",
   "execution_count": 33,
   "id": "45e9ba8a-a6a6-4ec6-8471-d4a136235410",
   "metadata": {},
   "outputs": [
    {
     "name": "stdout",
     "output_type": "stream",
     "text": [
      "{1, 2, 3, 4, 5} {1, 2, 3, 4, 5, 6, 7, 8}\n"
     ]
    }
   ],
   "source": [
    "#sets\n",
    "s1 = {1,2,3,4,5}\n",
    "s2 = {1,2,3,4,5,6,7,8}\n",
    "print(s1,s2)"
   ]
  },
  {
   "cell_type": "code",
   "execution_count": 34,
   "id": "4b4e2a36-bfd1-43aa-9675-1c1734138130",
   "metadata": {},
   "outputs": [
    {
     "name": "stdout",
     "output_type": "stream",
     "text": [
      "{'name': 'klz', 'subject': 'ds'}\n"
     ]
    }
   ],
   "source": [
    "my_dict1 = {\"name\": \"klz\",\"subject\": \"ds\"}\n",
    "print(my_dict1)"
   ]
  },
  {
   "cell_type": "code",
   "execution_count": 40,
   "id": "f8c85be9-1a21-43ee-9a59-4f6484e94b29",
   "metadata": {},
   "outputs": [
    {
     "name": "stdout",
     "output_type": "stream",
     "text": [
      "{1, 2, 3, 4, 5, 'banana'}\n"
     ]
    }
   ],
   "source": [
    "#sets\n",
    "s1 = {1,2,3,4,5,\"banana\"}\n",
    "print(s1)"
   ]
  },
  {
   "cell_type": "code",
   "execution_count": null,
   "id": "51ac2787-143a-4ac0-8030-e3b1c0ad26cf",
   "metadata": {},
   "outputs": [],
   "source": [
    "# sets\n",
    "s1 = {1,2,3,4,5,6,7,8,9,11,123,1334}\n",
    "s2 = {1,2,3,4}\n",
    "s3 = {1,2,3,4}#common in s1,s2"
   ]
  },
  {
   "cell_type": "code",
   "execution_count": null,
   "id": "74291e89-1dc2-420e-af7b-86d2158702ba",
   "metadata": {},
   "outputs": [],
   "source": []
  }
 ],
 "metadata": {
  "kernelspec": {
   "display_name": "Python 3 (ipykernel)",
   "language": "python",
   "name": "python3"
  },
  "language_info": {
   "codemirror_mode": {
    "name": "ipython",
    "version": 3
   },
   "file_extension": ".py",
   "mimetype": "text/x-python",
   "name": "python",
   "nbconvert_exporter": "python",
   "pygments_lexer": "ipython3",
   "version": "3.10.6"
  }
 },
 "nbformat": 4,
 "nbformat_minor": 5
}
